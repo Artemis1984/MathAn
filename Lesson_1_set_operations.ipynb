{
 "cells": [
  {
   "cell_type": "code",
   "execution_count": 1,
   "metadata": {},
   "outputs": [],
   "source": [
    "import numpy as np\n",
    "import warnings\n",
    "warnings.filterwarnings('ignore')"
   ]
  },
  {
   "cell_type": "code",
   "execution_count": 26,
   "metadata": {},
   "outputs": [],
   "source": [
    "A = [1, 2, 5, 8, 10]\n",
    "B = [2, 3, 5, 8, 11]\n",
    "C = [6, 7, 8, 9, 11]"
   ]
  },
  {
   "cell_type": "code",
   "execution_count": 27,
   "metadata": {},
   "outputs": [
    {
     "name": "stdout",
     "output_type": "stream",
     "text": [
      "Пересечение [8]\n"
     ]
    }
   ],
   "source": [
    "print('Пересечение', [i for i in A if i in B and i in C])"
   ]
  },
  {
   "cell_type": "code",
   "execution_count": 28,
   "metadata": {},
   "outputs": [
    {
     "name": "stdout",
     "output_type": "stream",
     "text": [
      "Объединение [1, 2, 3, 5, 6, 7, 8, 9, 10, 11]\n"
     ]
    }
   ],
   "source": [
    "fin_list = []\n",
    "for i in A + B + C:\n",
    "    if not(i in fin_list):\n",
    "        fin_list.append(i)\n",
    "print('Объединение', sorted(fin_list))"
   ]
  },
  {
   "cell_type": "code",
   "execution_count": 29,
   "metadata": {},
   "outputs": [
    {
     "name": "stdout",
     "output_type": "stream",
     "text": [
      "разность [1, 10]\n"
     ]
    }
   ],
   "source": [
    "for i in range(len(A)):\n",
    "    if B[i] in A:\n",
    "        A.remove(B[i])\n",
    "    if C[i] in A:\n",
    "        A.remove(C[i])\n",
    "print('разность', A)"
   ]
  },
  {
   "cell_type": "code",
   "execution_count": 74,
   "metadata": {},
   "outputs": [
    {
     "name": "stdout",
     "output_type": "stream",
     "text": [
      "Симметричная разность [1, 3, 6, 7, 8, 9, 10]\n"
     ]
    }
   ],
   "source": [
    "A = [1, 2, 5, 8, 10]\n",
    "AB = sorted([i for i in A + B if (A+B).count(i) == 1])\n",
    "print('Симметричная разность', sorted([i for i in AB + C if (AB + C).count(i) == 1]))"
   ]
  }
 ],
 "metadata": {
  "kernelspec": {
   "display_name": "Python 3",
   "language": "python",
   "name": "python3"
  },
  "language_info": {
   "codemirror_mode": {
    "name": "ipython",
    "version": 3
   },
   "file_extension": ".py",
   "mimetype": "text/x-python",
   "name": "python",
   "nbconvert_exporter": "python",
   "pygments_lexer": "ipython3",
   "version": "3.7.3"
  }
 },
 "nbformat": 4,
 "nbformat_minor": 2
}
